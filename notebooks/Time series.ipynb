{
 "cells": [
  {
   "cell_type": "code",
   "execution_count": 1,
   "metadata": {
    "collapsed": true
   },
   "outputs": [],
   "source": [
    "from pyspark.sql import SparkSession\n",
    "import pyspark\n",
    "import findspark\n",
    "\n",
    "findspark.init()\n",
    "pyspark.SparkContext.setSystemProperty('spark.executor.memory', '4g')\n",
    "sc = pyspark.SparkContext(appName=\"test\")\n",
    "spark_sql = SparkSession.builder.appName(\"test\").getOrCreate()"
   ]
  },
  {
   "cell_type": "code",
   "execution_count": 2,
   "metadata": {
    "collapsed": true
   },
   "outputs": [],
   "source": [
    "from bicis.etl.unify_raw_data import UnifyRawData\n",
    "input_fname = UnifyRawData().output().path.replace('.csv', '_sample.csv')"
   ]
  },
  {
   "cell_type": "code",
   "execution_count": 3,
   "metadata": {
    "collapsed": true
   },
   "outputs": [],
   "source": [
    "from pyspark.sql import Row\n",
    "\n",
    "def _translate_doc(doc):\n",
    "    res = doc.asDict()\n",
    "    for date_field in 'rent_date return_date'.split():\n",
    "        res[date_field + '_date'] = doc[date_field].date()\n",
    "        res[date_field + '_hour'] = doc[date_field].hour\n",
    "        res[date_field + '_weekday'] = doc[date_field].isoweekday()\n",
    "    return Row(**res)"
   ]
  },
  {
   "cell_type": "code",
   "execution_count": 4,
   "metadata": {
    "collapsed": true
   },
   "outputs": [],
   "source": [
    "df = (\n",
    "    spark_sql\n",
    "    .read\n",
    "    .load(input_fname, format=\"csv\", sep=\",\", inferSchema=\"true\", header=\"true\")\n",
    "    .rdd\n",
    "    .map(_translate_doc)\n",
    "    .toDF()\n",
    ")\n",
    "\n"
   ]
  },
  {
   "cell_type": "code",
   "execution_count": null,
   "metadata": {
    "collapsed": true
   },
   "outputs": [],
   "source": []
  }
 ],
 "metadata": {
  "kernelspec": {
   "display_name": "Python 2",
   "language": "python",
   "name": "python2"
  },
  "language_info": {
   "codemirror_mode": {
    "name": "ipython",
    "version": 2
   },
   "file_extension": ".py",
   "mimetype": "text/x-python",
   "name": "python",
   "nbconvert_exporter": "python",
   "pygments_lexer": "ipython2",
   "version": "2.7.14"
  }
 },
 "nbformat": 4,
 "nbformat_minor": 1
}
